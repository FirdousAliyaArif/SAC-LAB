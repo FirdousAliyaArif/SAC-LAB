{
 "cells": [
  {
   "cell_type": "code",
   "execution_count": 2,
   "id": "760fd3a5",
   "metadata": {},
   "outputs": [
    {
     "name": "stdout",
     "output_type": "stream",
     "text": [
      "Average case of COVID-19 in India 340.0\n"
     ]
    }
   ],
   "source": [
    "#5. statistical analysis\n",
    "#a. compute the mean, median, standard deviation of a numpy array\n",
    "#Mean\n",
    "#syntax: ndarrarryobj.mean()\n",
    "import numpy as np\n",
    "lst1 = [\"Delhi\",\"Telengana\",\"Mumbai\",\"Rajastan\",\"AndhraP\"]\n",
    "lst2 = [450,350,250,500,150]\n",
    "states = np.array(lst1)\n",
    "case = np.array(lst2)\n",
    "print(\"Average case of COVID-19 in India\",case.mean())"
   ]
  },
  {
   "cell_type": "code",
   "execution_count": 3,
   "id": "7b103c9a",
   "metadata": {},
   "outputs": [
    {
     "name": "stdout",
     "output_type": "stream",
     "text": [
      "Average case of COVID-19 in India 1116.6666666666667\n"
     ]
    }
   ],
   "source": [
    "#5000 people affected in kerela\n",
    "lst1 = [\"Delhi\",\"Telengana\",\"Mumbai\",\"Rajastan\",\"AndhraP\",\"Kerela\"]\n",
    "lst2 = [450,350,250,500,150,5000]\n",
    "states = np.array(lst1)\n",
    "case = np.array(lst2)\n",
    "print(\"Average case of COVID-19 in India\",case.mean())"
   ]
  },
  {
   "cell_type": "code",
   "execution_count": 7,
   "id": "2150f9e6",
   "metadata": {},
   "outputs": [
    {
     "data": {
      "text/plain": [
       "np.float64(400.0)"
      ]
     },
     "execution_count": 7,
     "metadata": {},
     "output_type": "execute_result"
    }
   ],
   "source": [
    "#Median\n",
    "#np.median(ndarrayobj)\n",
    "lst1 = [\"Delhi\",\"Telengana\",\"Mumbai\",\"Rajastan\",\"AndhraP\",\"Kerela\",\"karnataka\",\"TamilNadu\"]\n",
    "lst2 = [450,350,250,500,150,5000,6000,75]\n",
    "states = np.array(lst1)\n",
    "case = np.array(lst2)\n",
    "np.median(case)"
   ]
  },
  {
   "cell_type": "code",
   "execution_count": null,
   "id": "904eba63",
   "metadata": {},
   "outputs": [],
   "source": [
    "#sytax\n",
    "#np.median(ndarrayobj)\n",
    "#ndarrayobj.mode"
   ]
  },
  {
   "cell_type": "code",
   "execution_count": 15,
   "id": "cdc466cf",
   "metadata": {},
   "outputs": [
    {
     "name": "stdout",
     "output_type": "stream",
     "text": [
      "The standard deviation is 2271.1656389120985\n"
     ]
    }
   ],
   "source": [
    "#Standard deviation\n",
    "#syntax: np.std(ndarrayobj)\n",
    "lst1 = [\"Delhi\",\"Telengana\",\"Mumbai\",\"Rajastan\",\"AndhraP\",\"Kerela\",\"karnataka\",\"TamilNadu\"]\n",
    "lst2 = [450,350,250,500,150,5000,6000,75]\n",
    "states = np.array(lst1)\n",
    "case = np.array(lst2)\n",
    "stdev = np.std(case)\n",
    "print(\"The standard deviation is\",stdev)"
   ]
  }
 ],
 "metadata": {
  "kernelspec": {
   "display_name": "Python 3 (ipykernel)",
   "language": "python",
   "name": "python3"
  },
  "language_info": {
   "codemirror_mode": {
    "name": "ipython",
    "version": 3
   },
   "file_extension": ".py",
   "mimetype": "text/x-python",
   "name": "python",
   "nbconvert_exporter": "python",
   "pygments_lexer": "ipython3",
   "version": "3.11.4"
  }
 },
 "nbformat": 4,
 "nbformat_minor": 5
}
