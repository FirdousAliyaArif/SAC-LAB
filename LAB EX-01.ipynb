{
 "cells": [
  {
   "cell_type": "code",
   "execution_count": 15,
   "id": "3d71b744",
   "metadata": {},
   "outputs": [
    {
     "name": "stdout",
     "output_type": "stream",
     "text": [
      "1D data\n",
      "content of nd [ 9 37 50 87 53 44 60 97 23 57]\n",
      "type od nd <class 'numpy.ndarray'>\n",
      "dtype of nd int32\n",
      "shape of nd (10,)\n",
      "dimension of nd 1\n",
      "size of nd 10\n"
     ]
    }
   ],
   "source": [
    "#working with arrays\n",
    "#create a 1D array\n",
    "import numpy as np\n",
    "nd=np.random.randint(1,100,size=10)\n",
    "print(\"1D data\")\n",
    "print(\"content of nd\",nd)\n",
    "print(\"type od nd\",type(nd))\n",
    "print(\"dtype of nd\",nd.dtype)\n",
    "print(\"shape of nd\",nd.shape)\n",
    "print(\"dimension of nd\",nd.ndim)\n",
    "print(\"size of nd\",nd.size)"
   ]
  },
  {
   "cell_type": "code",
   "execution_count": 4,
   "id": "f91dee2b",
   "metadata": {},
   "outputs": [
    {
     "name": "stdout",
     "output_type": "stream",
     "text": [
      "[False  True  True  True  True  True  True  True  True]\n",
      "[[False  True  True]\n",
      " [ True  True  True]\n",
      " [ True  True  True]]\n",
      "dimension 2\n",
      "dtype bool\n",
      "shape (3, 3)\n",
      "size 9\n"
     ]
    }
   ],
   "source": [
    "#b. create a boolean array\n",
    "lst=[0,1,2,3,4,5,6,7,8]\n",
    "ndo=np.array(lst,dtype=bool)\n",
    "print(ndo)\n",
    "ndo=ndo.reshape(3,3)\n",
    "print(ndo)\n",
    "print(\"dimension\",ndo.ndim)\n",
    "print(\"dtype\",ndo.dtype)\n",
    "print(\"shape\",ndo.shape)\n",
    "print(\"size\",ndo.size)"
   ]
  },
  {
   "cell_type": "code",
   "execution_count": 6,
   "id": "da1f039c",
   "metadata": {},
   "outputs": [
    {
     "name": "stdout",
     "output_type": "stream",
     "text": [
      "[2 7 1 4 5 8 5 7 5 6]\n",
      "(array([1, 5, 7, 9], dtype=int64),)\n",
      "[7 8 7 6]\n"
     ]
    }
   ],
   "source": [
    "#c. extract items that satisfy a given condition\n",
    "import numpy as np\n",
    "ndo=np.random.randint(1,10,size=10)\n",
    "print(ndo)\n",
    "index=np.where(ndo>5)\n",
    "print(index)\n",
    "print(ndo[index])"
   ]
  },
  {
   "cell_type": "code",
   "execution_count": 7,
   "id": "1d116820",
   "metadata": {},
   "outputs": [
    {
     "name": "stdout",
     "output_type": "stream",
     "text": [
      "[25 20 30 45 25 70 56]\n"
     ]
    }
   ],
   "source": [
    "#d. replace items that satify a condition with another value in the numpy array\n",
    "ts=[10,20,15,18,25,70,56]\n",
    "ap=[25,19,30,45,7,89,90]\n",
    "t=np.array(ts)\n",
    "a=np.array(ap)\n",
    "poll=np.where(t>18,t,a)\n",
    "print(poll)"
   ]
  },
  {
   "cell_type": "code",
   "execution_count": 16,
   "id": "a55dc8ed",
   "metadata": {},
   "outputs": [
    {
     "name": "stdout",
     "output_type": "stream",
     "text": [
      "[10 20 30 0 0 0]\n",
      "new salary\n",
      "[1010 2020 3030 4000 5000 6000]\n"
     ]
    }
   ],
   "source": [
    "#e. replace items that satisfy a condition without affectiong the orignal array\n",
    "sal=np.array([1000,2000,3000,4000,5000,6000])\n",
    "comission=np.array([10,20,30,None,None,None])\n",
    "newsal=np.where(comission==None,0,comission)\n",
    "print(newsal)\n",
    "netsal=sal+newsal\n",
    "print(\"new salary\")\n",
    "print(netsal)"
   ]
  },
  {
   "cell_type": "code",
   "execution_count": 17,
   "id": "80cb8b98",
   "metadata": {},
   "outputs": [
    {
     "name": "stdout",
     "output_type": "stream",
     "text": [
      "[[35 35  3]\n",
      " [24 44 48]\n",
      " [45 47 39]]\n",
      "[35 35  3 24 44 48 45 47 39]\n"
     ]
    }
   ],
   "source": [
    "#f. reshape an array\n",
    "ndo=np.random.randint(1,50,size=(3,3))\n",
    "print(ndo)\n",
    "nd1=ndo.reshape(9,)\n",
    "print(nd1)"
   ]
  },
  {
   "cell_type": "code",
   "execution_count": 18,
   "id": "fbbf4331",
   "metadata": {},
   "outputs": [
    {
     "name": "stdout",
     "output_type": "stream",
     "text": [
      "[7 7 6 6 6 8 5 7]\n",
      "[7 7 6 6 6 8 7]\n"
     ]
    }
   ],
   "source": [
    "#g. extract all numbers between a given range from a numoy array\n",
    "ndo=np.random.randint(5,10,size=8)\n",
    "print(ndo)\n",
    "out=np.extract(ndo>5,ndo)\n",
    "print(out)"
   ]
  }
 ],
 "metadata": {
  "kernelspec": {
   "display_name": "Python 3 (ipykernel)",
   "language": "python",
   "name": "python3"
  },
  "language_info": {
   "codemirror_mode": {
    "name": "ipython",
    "version": 3
   },
   "file_extension": ".py",
   "mimetype": "text/x-python",
   "name": "python",
   "nbconvert_exporter": "python",
   "pygments_lexer": "ipython3",
   "version": "3.11.4"
  }
 },
 "nbformat": 4,
 "nbformat_minor": 5
}
