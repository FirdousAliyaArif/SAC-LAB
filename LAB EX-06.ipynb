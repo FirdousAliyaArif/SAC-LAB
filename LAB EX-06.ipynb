{
 "cells": [
  {
   "cell_type": "code",
   "execution_count": 18,
   "id": "e00aa4e8",
   "metadata": {},
   "outputs": [
    {
     "name": "stdout",
     "output_type": "stream",
     "text": [
      "********************\n",
      "salary\n",
      "[ 1000  2000  3000  4000  5000  2500 35000]\n",
      "********************\n",
      "comission\n",
      "[10 20 30 None None 25 None]\n",
      "********************\n",
      "The missing values' position are: (array([3, 4, 6], dtype=int64),)\n",
      "(array([3, 4, 6], dtype=int64),)\n"
     ]
    }
   ],
   "source": [
    "#5. Data cleaning\n",
    "#a. Find the pos of the missing values in the numpy array\n",
    "import numpy as np\n",
    "salary=np.array([1000,2000,3000,4000,5000,2500,35000])\n",
    "com=np.array([10,20,30,None,None,25,None])\n",
    "print(\"*\"*20)\n",
    "print(\"salary\")\n",
    "print(salary)\n",
    "print(\"*\"*20)\n",
    "print(\"comission\")\n",
    "print(com)\n",
    "print(\"*\"*20)\n",
    "position=np.where(com==None)\n",
    "print(\"The missing values' position are:\",position)\n",
    "print(position)"
   ]
  },
  {
   "cell_type": "code",
   "execution_count": 12,
   "id": "542cbde2",
   "metadata": {},
   "outputs": [
    {
     "name": "stdout",
     "output_type": "stream",
     "text": [
      "[10 20 30 0 0 0 0]\n",
      "********************\n",
      "[1010 2020 3030 4000 5000 6000 7000]\n"
     ]
    }
   ],
   "source": [
    "#Data cleaning \n",
    "#a. Find the position \n",
    "salary=np.array([1000,2000,3000,4000,5000,6000,7000])\n",
    "com=np.array([10,20,30,None,None,None,None])\n",
    "newcom=np.where(com==None,0,com)\n",
    "print(\"*\"*20)\n",
    "print(\"Replace all missing values with 0 in a numpy array\")\n",
    "\n",
    "print(newcom)\n",
    "print(\"*\"*20)\n",
    "netsal=salary+newcom\n",
    "print(netsal)"
   ]
  },
  {
   "cell_type": "code",
   "execution_count": 19,
   "id": "50fe1804",
   "metadata": {},
   "outputs": [
    {
     "name": "stdout",
     "output_type": "stream",
     "text": [
      "Numpy array\n",
      "[[ 1.  2. nan]\n",
      " [ 3.  4.  5.]\n",
      " [ 6.  7.  8.]\n",
      " [ 9. 10. 11.]]\n",
      "********************\n",
      "********************\n",
      "Rows with missing values\n",
      "[[ 1.  2. nan]]\n",
      "Deletion of the rows with the missing values\n",
      "[[ 3.  4.  5.]\n",
      " [ 6.  7.  8.]\n",
      " [ 9. 10. 11.]]\n"
     ]
    }
   ],
   "source": [
    "#b. Drop the rows that contain a missing value from a numpy array\n",
    "import numpy as np\n",
    "lst=[[1,2,np.nan],[3,4,5],[6,7,8],[9,10,11]]\n",
    "a=np.array(lst)\n",
    "print(\"Numpy array\")\n",
    "print(a)\n",
    "print(\"*\"*20)\n",
    "#syntax resobj=numpy.isnan(ndarrayobj)\n",
    "#syntax any(pass axis)\n",
    "print(\"*\"*20)\n",
    "print(\"Rows with missing values\")\n",
    "print(a[np.isnan(a).any(axis=1)])\n",
    "#Dropping the rows with the missing values\n",
    "print(\"Deletion of the rows with the missing values\")\n",
    "print(a[~np.isnan(a).any(axis=1)])"
   ]
  },
  {
   "cell_type": "code",
   "execution_count": 20,
   "id": "d63c2764",
   "metadata": {},
   "outputs": [
    {
     "name": "stdout",
     "output_type": "stream",
     "text": [
      "[[ 1.  2. nan]\n",
      " [ 3.  4.  5.]\n",
      " [ 6.  7. nan]\n",
      " [ 9. 10. nan]]\n"
     ]
    },
    {
     "data": {
      "text/plain": [
       "array([[False, False,  True],\n",
       "       [False, False, False],\n",
       "       [False, False,  True],\n",
       "       [False, False,  True]])"
      ]
     },
     "execution_count": 20,
     "metadata": {},
     "output_type": "execute_result"
    }
   ],
   "source": [
    "#c.Find the if the numpy array has null values\n",
    "lst=[[1,2,np.nan],[3,4,5],[6,7,np.nan],[9,10,np.nan]]\n",
    "a=np.array(lst)\n",
    "print(a)\n",
    "#syntax\n",
    "#numpy.isnan()\n",
    "np.isnan(a)"
   ]
  },
  {
   "cell_type": "code",
   "execution_count": null,
   "id": "992e11bf",
   "metadata": {},
   "outputs": [],
   "source": [
    "#d."
   ]
  }
 ],
 "metadata": {
  "kernelspec": {
   "display_name": "Python 3 (ipykernel)",
   "language": "python",
   "name": "python3"
  },
  "language_info": {
   "codemirror_mode": {
    "name": "ipython",
    "version": 3
   },
   "file_extension": ".py",
   "mimetype": "text/x-python",
   "name": "python",
   "nbconvert_exporter": "python",
   "pygments_lexer": "ipython3",
   "version": "3.11.4"
  }
 },
 "nbformat": 4,
 "nbformat_minor": 5
}
