{
 "cells": [
  {
   "cell_type": "code",
   "execution_count": 1,
   "id": "9c243a56",
   "metadata": {},
   "outputs": [
    {
     "name": "stdout",
     "output_type": "stream",
     "text": [
      "Multidimensional array\n",
      "content of a [[38 98 70]\n",
      " [99 93 87]\n",
      " [10 56 54]\n",
      " [10 94 95]]\n",
      "Dimension of a 2\n",
      "dtype of a int32\n",
      "size of a 12\n",
      "shape of a (4, 3)\n",
      "flat data or 1D\n",
      "********************\n",
      "one dimensional array\n",
      "content of b [38 98 70 99 93 87 10 56 54 10 94 95]\n",
      "dimension of b 1\n",
      "dtype of b int32\n",
      "size of b 12\n",
      "shape of b (12,)\n",
      "flat data or 1D\n"
     ]
    }
   ],
   "source": [
    "#4.a. multidimensional array\n",
    "import numpy as np\n",
    "a=np.random.randint(1,100,size=(4,3))\n",
    "print(\"Multidimensional array\")\n",
    "print(\"content of a\",a)\n",
    "print(\"Dimension of a\",a.ndim)\n",
    "print(\"dtype of a\",a.dtype)\n",
    "print(\"size of a\",a.size)\n",
    "print(\"shape of a\",a.shape)\n",
    "print(\"flat data or 1D\")\n",
    "print(\"*\"*20)\n",
    "b=a.reshape(12,)\n",
    "print(\"one dimensional array\")\n",
    "print(\"content of b\",b)\n",
    "print(\"dimension of b\",b.ndim)\n",
    "print(\"dtype of b\",b.dtype)\n",
    "print(\"size of b\",b.size)\n",
    "print(\"shape of b\",b.shape)\n",
    "print(\"flat data or 1D\")"
   ]
  },
  {
   "cell_type": "code",
   "execution_count": 2,
   "id": "fe7783ca",
   "metadata": {},
   "outputs": [
    {
     "name": "stdout",
     "output_type": "stream",
     "text": [
      "content of a\n",
      " [[72 30 21]\n",
      " [67 40 51]\n",
      " [78 53 92]\n",
      " [29 86 63]]\n",
      "[72 30 21 67 40 51 78 53 92 29 86 63]\n"
     ]
    }
   ],
   "source": [
    "#a. covert array into 1D\n",
    "import numpy as np\n",
    "a=np.random.randint(1,100,size=(4,3))\n",
    "print(\"content of a\\n\",a)\n",
    "b=a.reshape(12,)\n",
    "print(b)"
   ]
  },
  {
   "cell_type": "code",
   "execution_count": 3,
   "id": "599701e1",
   "metadata": {},
   "outputs": [
    {
     "name": "stdout",
     "output_type": "stream",
     "text": [
      "content of a [[10 42 93]\n",
      " [ 5  7 31]\n",
      " [91 33 92]\n",
      " [17 61 13]]\n",
      "10\n",
      "42\n",
      "93\n",
      "5\n",
      "7\n",
      "31\n",
      "91\n",
      "33\n",
      "92\n",
      "17\n",
      "61\n",
      "13\n"
     ]
    }
   ],
   "source": [
    "#4. Multidimensional arrays\n",
    "#a. convert an array of arrays into flat 1d array\n",
    "import numpy as np\n",
    "a=np.random.randint(1,100,size=(4,3))\n",
    "print(\"content of a\",a)\n",
    "for i in a:\n",
    "    for j in i:\n",
    "        print(j)"
   ]
  },
  {
   "cell_type": "code",
   "execution_count": 7,
   "id": "9dafa739",
   "metadata": {},
   "outputs": [
    {
     "name": "stdout",
     "output_type": "stream",
     "text": [
      "[[ 56   6  67]\n",
      " [ 15  74  12]\n",
      " [ 56 204 200]]\n",
      "(array([67]), array([6]), array([56]))\n",
      "(array([12]), array([74]), array([15]))\n",
      "(array([200]), array([204]), array([56]))\n"
     ]
    }
   ],
   "source": [
    "#4.b. swap two columns\n",
    "import numpy as np\n",
    "a = np.random.randint(1,300,size=(3,3))\n",
    "print(a)\n",
    "#fancy index\n",
    "x = a[:,[2]]\n",
    "y = a[:,[1]]\n",
    "z = a[:,[0]]\n",
    "zi = zip(x,y,z)\n",
    "for i in zi:\n",
    "   print(i)"
   ]
  },
  {
   "cell_type": "code",
   "execution_count": null,
   "id": "3cff9b1f-a754-482c-b0f0-9644f8de1cf0",
   "metadata": {},
   "outputs": [],
   "source": [
    "#b. swap two columns\n",
    "import numpy as np\n",
    "a = np"
   ]
  }
 ],
 "metadata": {
  "kernelspec": {
   "display_name": "Python [conda env:base] *",
   "language": "python",
   "name": "conda-base-py"
  },
  "language_info": {
   "codemirror_mode": {
    "name": "ipython",
    "version": 3
   },
   "file_extension": ".py",
   "mimetype": "text/x-python",
   "name": "python",
   "nbconvert_exporter": "python",
   "pygments_lexer": "ipython3",
   "version": "3.11.4"
  }
 },
 "nbformat": 4,
 "nbformat_minor": 5
}
