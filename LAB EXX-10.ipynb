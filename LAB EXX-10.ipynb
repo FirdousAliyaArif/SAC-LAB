{
 "cells": [
  {
   "cell_type": "code",
   "execution_count": 5,
   "id": "5113bfb9-96f1-4dda-9d1a-cdc1f8229e93",
   "metadata": {},
   "outputs": [
    {
     "name": "stdout",
     "output_type": "stream",
     "text": [
      "     A    B\n",
      "0  0.0  0.0\n",
      "1  0.5  0.5\n",
      "2  1.0  1.0\n"
     ]
    }
   ],
   "source": [
    "#Data preparation in pandas \n",
    "#a. Normalize all columns in a data frame\n",
    "import pandas as pd\n",
    "from sklearn.preprocessing import MinMaxScaler\n",
    "df = pd.DataFrame({'A':[1,2,3],'B':[4,5,6]})\n",
    "Scaler = MinMaxScaler()\n",
    "df_scaled = pd.DataFrame(Scaler.fit_transform(df),columns = df.columns)\n",
    "print(df_scaled)"
   ]
  },
  {
   "cell_type": "code",
   "execution_count": 27,
   "id": "585e1ed1-ff6e-4120-943c-31cbabf65c68",
   "metadata": {},
   "outputs": [
    {
     "name": "stdout",
     "output_type": "stream",
     "text": [
      "[0.9999999999999999]\n",
      "[0.9999999999999999, 0.9999999999999999]\n",
      "[0.9999999999999999, 0.9999999999999999, 0.9999999999999999]\n"
     ]
    }
   ],
   "source": [
    "#b. Compute the correlation of each row with succeding row\n",
    "import pandas as pd\n",
    "df = pd.DataFrame({'A':[1,2,3,4],'B':[5,6,7,8]})\n",
    "correlations = [] \n",
    "for i in range (len(df)-1):\n",
    "    corr = df.iloc[i].corr(df.iloc[i+1])\n",
    "    correlations.append(corr)\n",
    "    print(correlations)"
   ]
  },
  {
   "cell_type": "code",
   "execution_count": null,
   "id": "c73ddd98-79ba-4490-891e-638b71776448",
   "metadata": {},
   "outputs": [],
   "source": [
    "#Data preparation in pandas \n",
    "#a. Normalize all columns in a data frame\n",
    "import pandas as pd\n",
    "from sklearn.preprocessing import MinMaxScaler\n",
    "df = pd.dataFrame("
   ]
  }
 ],
 "metadata": {
  "kernelspec": {
   "display_name": "Python [conda env:base] *",
   "language": "python",
   "name": "conda-base-py"
  },
  "language_info": {
   "codemirror_mode": {
    "name": "ipython",
    "version": 3
   },
   "file_extension": ".py",
   "mimetype": "text/x-python",
   "name": "python",
   "nbconvert_exporter": "python",
   "pygments_lexer": "ipython3",
   "version": "3.11.4"
  }
 },
 "nbformat": 4,
 "nbformat_minor": 5
}
