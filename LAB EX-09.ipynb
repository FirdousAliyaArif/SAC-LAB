{
 "cells": [
  {
   "cell_type": "code",
   "execution_count": 7,
   "id": "f4a22c37-6b08-450f-97b9-d2f842b66365",
   "metadata": {},
   "outputs": [
    {
     "name": "stdout",
     "output_type": "stream",
     "text": [
      "Orignal Series:\n",
      "0   -5.999062\n",
      "1    2.370722\n",
      "dtype: float64\n",
      "\n",
      "The minimum, 25th percentile, median, 75th percentile, and maximum of a given series are:\n",
      "[-5.99906189 -3.90661602 -1.81417014  0.27827574  2.37072161]\n"
     ]
    }
   ],
   "source": [
    "#statistical analysis on pandas\n",
    "#a. Get the minimum, 25th percentile, 75th percentile, and the maximum of a numeric series\n",
    "import pandas as pd\n",
    "import numpy as np\n",
    "numstate = np.random.RandomState(100)\n",
    "numseries = pd.Series(numstate.normal(1,4,2))\n",
    "print(\"Orignal Series:\")\n",
    "print(numseries)\n",
    "res = np.percentile(numseries,q = [0,25,50,75,100])\n",
    "print(\"\\nThe minimum, 25th percentile, median, 75th percentile, and maximum of a given series are:\")\n",
    "print(res)"
   ]
  },
  {
   "cell_type": "code",
   "execution_count": 9,
   "id": "45d0c408-684a-414c-989c-aef512128806",
   "metadata": {},
   "outputs": [
    {
     "name": "stdout",
     "output_type": "stream",
     "text": [
      "0    2\n",
      "1    3\n",
      "2    4\n",
      "3    5\n",
      "4    6\n",
      "5    7\n",
      "6    8\n",
      "7    9\n",
      "8    5\n",
      "9    3\n",
      "dtype: int64\n",
      "3    2\n",
      "5    2\n",
      "2    1\n",
      "4    1\n",
      "6    1\n",
      "7    1\n",
      "8    1\n",
      "9    1\n",
      "dtype: int64\n"
     ]
    }
   ],
   "source": [
    "#b. Get the frequency counts of unique item of a series\n",
    "import pandas as pd\n",
    "s = pd.Series(data = [2,3,4,5,6,7,8,9,5,3])\n",
    "print(s)\n",
    "#Finding the unique count\n",
    "print(s.value_counts())"
   ]
  },
  {
   "cell_type": "code",
   "execution_count": 13,
   "id": "ef4ff6f1-b724-42bc-ae0b-6e8ed21ad855",
   "metadata": {},
   "outputs": [
    {
     "name": "stdout",
     "output_type": "stream",
     "text": [
      "0    (0.999, 1.9]\n",
      "1      (1.9, 2.8]\n",
      "2      (2.8, 3.7]\n",
      "3      (3.7, 4.6]\n",
      "4      (4.6, 5.5]\n",
      "5      (5.5, 6.4]\n",
      "6      (6.4, 7.3]\n",
      "7      (7.3, 8.2]\n",
      "8      (8.2, 9.1]\n",
      "9     (9.1, 10.0]\n",
      "dtype: category\n",
      "Categories (10, interval[float64, right]): [(0.999, 1.9] < (1.9, 2.8] < (2.8, 3.7] < (3.7, 4.6] ... (6.4, 7.3] < (7.3, 8.2] < (8.2, 9.1] < (9.1, 10.0]]\n"
     ]
    }
   ],
   "source": [
    "#c. Bin a numeric series to 10 groups of equal size\n",
    "import pandas as pd\n",
    "s = pd.Series([1,2,3,4,5,6,7,8,9,10])\n",
    "bin = pd.qcut(s,10)\n",
    "print(bin)"
   ]
  },
  {
   "cell_type": "code",
   "execution_count": 15,
   "id": "f6139211-89be-46bb-8339-c4c5bc245cfd",
   "metadata": {},
   "outputs": [
    {
     "name": "stdout",
     "output_type": "stream",
     "text": [
      "Series 1: 0    1\n",
      "1    2\n",
      "2    3\n",
      "3    4\n",
      "4    5\n",
      "dtype: int64\n",
      "Series 2: 0     6\n",
      "1     7\n",
      "2     8\n",
      "3     9\n",
      "4    10\n",
      "dtype: int64\n",
      "Euclidean distance between two series is: 11.180339887498949\n"
     ]
    }
   ],
   "source": [
    "#d. Compute the Euclidean distance between the two series\n",
    "import pandas as pd\n",
    "import numpy as np\n",
    "x = pd.Series([1,2,3,4,5])\n",
    "y = pd.Series([6,7,8,9,10])\n",
    "p1 = np.sum([(a*a) for a in x])\n",
    "p2 = np.sum([(b*b) for b in y])\n",
    "p3 = -1*np.sum([(2*a*b) for (a,b) in zip(x,y)])\n",
    "dist = np.sqrt(np.sum(p1+p2+p3))\n",
    "print(\"Series 1:\",x)\n",
    "print(\"*\"*20)\n",
    "print(\"Series 2:\",y)\n",
    "print(\"*\"*20)\n",
    "print(\"Euclidean distance between two series is:\",dist)"
   ]
  },
  {
   "cell_type": "code",
   "execution_count": null,
   "id": "9724a257-064c-4255-9da0-e4ed179a292c",
   "metadata": {},
   "outputs": [],
   "source": []
  }
 ],
 "metadata": {
  "kernelspec": {
   "display_name": "Python [conda env:base] *",
   "language": "python",
   "name": "conda-base-py"
  },
  "language_info": {
   "codemirror_mode": {
    "name": "ipython",
    "version": 3
   },
   "file_extension": ".py",
   "mimetype": "text/x-python",
   "name": "python",
   "nbconvert_exporter": "python",
   "pygments_lexer": "ipython3",
   "version": "3.11.4"
  }
 },
 "nbformat": 4,
 "nbformat_minor": 5
}
