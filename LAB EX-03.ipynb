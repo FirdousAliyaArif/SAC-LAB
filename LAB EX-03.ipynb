{
 "cells": [
  {
   "cell_type": "code",
   "execution_count": 20,
   "id": "60f7f253",
   "metadata": {},
   "outputs": [
    {
     "name": "stdout",
     "output_type": "stream",
     "text": [
      "A array\n",
      "********************\n",
      "content of a [10 20 30 40 50]\n",
      "dimension 1\n",
      "size 5\n",
      "Dtype int32\n",
      "shape (5,)\n",
      "********************\n",
      "B array\n",
      "********************\n",
      "content of b [ 60  70  80  90 100]\n",
      "dimension of b 1\n",
      "size of b 5\n",
      "Dtype of b int32\n",
      "shape of b (5,)\n",
      "********************\n",
      "C array\n",
      "********************\n",
      "content of c\n",
      " [[ 10  20  30  40  50]\n",
      " [ 60  70  80  90 100]]\n",
      "dimension of c 2\n",
      "Dtype of c int32\n",
      "size of c 10\n",
      "shape of c (2, 5)\n"
     ]
    }
   ],
   "source": [
    "#3.a. Multiple arrays\n",
    "#stack two arrays vertically\n",
    "import numpy as np\n",
    "lst1=[10,20,30,40,50]\n",
    "lst2=[60,70,80,90,100]\n",
    "a=np.array(lst1)\n",
    "print(\"A array\")\n",
    "print(\"*\"*20)\n",
    "print(\"content of a\",a)\n",
    "print(\"dimension\",a.ndim)\n",
    "print(\"size\",a.size)\n",
    "print(\"Dtype\",a.dtype)\n",
    "print(\"shape\",a.shape)\n",
    "b=np.array(lst2)\n",
    "print(\"*\"*20)\n",
    "print(\"B array\")\n",
    "print(\"*\"*20)\n",
    "print(\"content of b\",b)\n",
    "print(\"dimension of b\",b.ndim)\n",
    "print(\"size of b\",b.size)\n",
    "print(\"Dtype of b\",b.dtype)\n",
    "print(\"shape of b\",b.shape)\n",
    "print(\"*\"*20)\n",
    "#syntax\n",
    "#obj=numpy.vstack([a,b])\n",
    "c=np.vstack([a,b])\n",
    "print(\"C array\")\n",
    "print(\"*\"*20)\n",
    "print(\"content of c\\n\",c)\n",
    "print(\"dimension of c\",c.ndim)\n",
    "print(\"Dtype of c\",c.dtype)\n",
    "print(\"size of c\",c.size)\n",
    "print(\"shape of c\",c.shape)"
   ]
  },
  {
   "cell_type": "code",
   "execution_count": 3,
   "id": "8c7623bb",
   "metadata": {},
   "outputs": [
    {
     "name": "stdout",
     "output_type": "stream",
     "text": [
      "A array\n",
      "********************\n",
      "content of a [10 20 30 40 50]\n",
      "dimension 1\n",
      "size 5\n",
      "Dtype int32\n",
      "shape (5,)\n",
      "********************\n",
      "B array\n",
      "********************\n",
      "content of b [ 60  70  80  90 100]\n",
      "dimension of b 1\n",
      "size of b 5\n",
      "Dtype of b int32\n",
      "shape of b (5,)\n",
      "********************\n",
      "C array\n",
      "********************\n",
      "content of c\n",
      " [ 10  20  30  40  50  60  70  80  90 100]\n",
      "dimension of c 1\n",
      "Dtype of c int32\n",
      "size of c 10\n",
      "shape of c (10,)\n"
     ]
    }
   ],
   "source": [
    "#3.b. Multiple arrays\n",
    "#stack two arrays vertically\n",
    "import numpy as np\n",
    "lst1=[10,20,30,40,50]\n",
    "lst2=[60,70,80,90,100]\n",
    "a=np.array(lst1)\n",
    "print(\"A array\")\n",
    "print(\"*\"*20)\n",
    "print(\"content of a\",a)\n",
    "print(\"dimension\",a.ndim)\n",
    "print(\"size\",a.size)\n",
    "print(\"Dtype\",a.dtype)\n",
    "print(\"shape\",a.shape)\n",
    "b=np.array(lst2)\n",
    "print(\"*\"*20)\n",
    "print(\"B array\")\n",
    "print(\"*\"*20)\n",
    "print(\"content of b\",b)\n",
    "print(\"dimension of b\",b.ndim)\n",
    "print(\"size of b\",b.size)\n",
    "print(\"Dtype of b\",b.dtype)\n",
    "print(\"shape of b\",b.shape)\n",
    "print(\"*\"*20)\n",
    "#syntax\n",
    "#obj=numpy.vstack([a,b])\n",
    "c=np.hstack([a,b])\n",
    "print(\"C array\")\n",
    "print(\"*\"*20)\n",
    "print(\"content of c\\n\",c)\n",
    "print(\"dimension of c\",c.ndim)\n",
    "print(\"Dtype of c\",c.dtype)\n",
    "print(\"size of c\",c.size)\n",
    "print(\"shape of c\",c.shape)"
   ]
  },
  {
   "cell_type": "code",
   "execution_count": 13,
   "id": "054c2a2c",
   "metadata": {},
   "outputs": [
    {
     "name": "stdout",
     "output_type": "stream",
     "text": [
      "********************\n",
      "A array\n",
      "********************\n",
      "[[10 20 30]\n",
      " [40 50 60]]\n",
      "********************\n",
      "B array\n",
      "********************\n",
      "[[60 30 80]\n",
      " [90 20 70]]\n",
      "Index position: (array([], dtype=int64), array([], dtype=int64))\n",
      "Common items between both the arrays (array([], dtype=int64), array([], dtype=int64))\n",
      "(array([], dtype=int64), array([], dtype=int64))\n",
      "[]\n"
     ]
    }
   ],
   "source": [
    "#c. get the common items btw two python numpy arrays\n",
    "import numpy as np\n",
    "lst1=[10,20,30,40,50,60]\n",
    "lst2=[60,30,80,90,20,70]\n",
    "a=np.array(lst1).reshape(2,3)\n",
    "b=np.array(lst2).reshape(2,3)\n",
    "print(\"*\"*20)\n",
    "print(\"A array\")\n",
    "print(\"*\"*20)\n",
    "print(a)\n",
    "print(\"*\"*20)\n",
    "print(\"B array\")\n",
    "print(\"*\"*20)\n",
    "print(b)\n",
    "ind=np.where(a==b)\n",
    "print(\"Index position:\",ind)\n",
    "print(\"Common items between both the arrays\",ind)\n",
    "print(ind)\n",
    "print(a[ind])"
   ]
  },
  {
   "cell_type": "code",
   "execution_count": 15,
   "id": "4b70edb1",
   "metadata": {},
   "outputs": [
    {
     "name": "stdout",
     "output_type": "stream",
     "text": [
      "********************\n",
      "A array\n",
      "********************\n",
      "[10 20 30 40 50 60]\n",
      "********************\n",
      "B array\n",
      "********************\n",
      "[60 30 80 90 20 70]\n",
      "Index position: (array([], dtype=int64),)\n",
      "Common items between both the arrays (array([], dtype=int64),)\n",
      "(array([], dtype=int64),)\n",
      "[]\n",
      "[10 20 30 40 50 60]\n"
     ]
    }
   ],
   "source": [
    "#3.d. Delete the common items of the numpy arrays\n",
    "import numpy as np\n",
    "lst1=[10,20,30,40,50,60]\n",
    "lst2=[60,30,80,90,20,70]\n",
    "a=np.array(lst1)\n",
    "b=np.array(lst2)\n",
    "print(\"*\"*20)\n",
    "print(\"A array\")\n",
    "print(\"*\"*20)\n",
    "print(a)\n",
    "print(\"*\"*20)\n",
    "print(\"B array\")\n",
    "print(\"*\"*20)\n",
    "print(b)\n",
    "ind=np.where(a==b)\n",
    "print(\"Index position:\",ind)\n",
    "print(\"Common items between both the arrays\",ind)\n",
    "print(ind)\n",
    "print(a[ind])\n",
    "res= np.delete(a,ind)\n",
    "print(res)"
   ]
  },
  {
   "cell_type": "code",
   "execution_count": 16,
   "id": "6e841432",
   "metadata": {},
   "outputs": [
    {
     "name": "stdout",
     "output_type": "stream",
     "text": [
      "********************\n",
      "A array\n",
      "********************\n",
      "[10 20 30 40 50]\n",
      "********************\n",
      "B array\n",
      "********************\n",
      "[60 30 80 90 20]\n",
      "Index position: [20 30]\n"
     ]
    }
   ],
   "source": [
    "#3.e. Get the poition of common elements\n",
    "#c. get the common items between two python numpy arrays\n",
    "import numpy as np\n",
    "lst1=[10,20,30,40,50]\n",
    "lst2=[60,30,80,90,20]\n",
    "a=np.array(lst1)\n",
    "b=np.array(lst2)\n",
    "print(\"*\"*20)\n",
    "print(\"A array\")\n",
    "print(\"*\"*20)\n",
    "print(a)\n",
    "print(\"*\"*20)\n",
    "print(\"B array\")\n",
    "print(\"*\"*20)\n",
    "print(b)\n",
    "ind=np.intersect1d(a,b)\n",
    "print(\"Index position:\",ind)"
   ]
  },
  {
   "cell_type": "code",
   "execution_count": 17,
   "id": "a225ac78",
   "metadata": {},
   "outputs": [
    {
     "name": "stdout",
     "output_type": "stream",
     "text": [
      "********************\n",
      "A array\n",
      "********************\n",
      "[10 20 30 40 50]\n",
      "********************\n",
      "B array\n",
      "********************\n",
      "[60 30 80 90 20]\n",
      "Index position: [20 30]\n",
      "Common items between both the arrays\n",
      "[20 30]\n",
      "After deleting:\n",
      "[10 40 50]\n",
      "[60 80 90]\n"
     ]
    }
   ],
   "source": [
    "#c. get the common items between two python numpy arrays\n",
    "import numpy as np\n",
    "lst1=[10,20,30,40,50]\n",
    "lst2=[60,30,80,90,20]\n",
    "a=np.array(lst1)\n",
    "b=np.array(lst2)\n",
    "print(\"*\"*20)\n",
    "print(\"A array\")\n",
    "print(\"*\"*20)\n",
    "print(a)\n",
    "print(\"*\"*20)\n",
    "print(\"B array\")\n",
    "print(\"*\"*20)\n",
    "print(b)\n",
    "ind=np.intersect1d(a,b)\n",
    "print(\"Index position:\",ind)\n",
    "print(\"Common items between both the arrays\")\n",
    "print(ind)\n",
    "#deleting common elements\n",
    "res1=np.setdiff1d(a,ind)\n",
    "res2=np.setdiff1d(b,ind)\n",
    "print(\"After deleting:\")\n",
    "print(res1)\n",
    "print(res2)"
   ]
  },
  {
   "cell_type": "code",
   "execution_count": null,
   "id": "31d55698",
   "metadata": {},
   "outputs": [],
   "source": []
  }
 ],
 "metadata": {
  "kernelspec": {
   "display_name": "Python 3 (ipykernel)",
   "language": "python",
   "name": "python3"
  },
  "language_info": {
   "codemirror_mode": {
    "name": "ipython",
    "version": 3
   },
   "file_extension": ".py",
   "mimetype": "text/x-python",
   "name": "python",
   "nbconvert_exporter": "python",
   "pygments_lexer": "ipython3",
   "version": "3.11.4"
  }
 },
 "nbformat": 4,
 "nbformat_minor": 5
}
