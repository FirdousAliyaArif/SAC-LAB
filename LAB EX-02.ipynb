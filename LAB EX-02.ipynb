{
 "cells": [
  {
   "cell_type": "code",
   "execution_count": 1,
   "id": "cf3c58b7",
   "metadata": {},
   "outputs": [
    {
     "name": "stdout",
     "output_type": "stream",
     "text": [
      "file is saved successfully...\n"
     ]
    }
   ],
   "source": [
    "#Binary file saving\n",
    "import numpy as np\n",
    "lst=[10,20,30,40,50,60]\n",
    "i=np.array(lst)\n",
    "res=np.save(\"out\",i)\n",
    "print(\"file is saved successfully...\")"
   ]
  },
  {
   "cell_type": "code",
   "execution_count": 2,
   "id": "f7fdfa87",
   "metadata": {},
   "outputs": [
    {
     "name": "stdout",
     "output_type": "stream",
     "text": [
      "file is loaded successfully\n",
      "[10 20 30 40 50 60]\n"
     ]
    }
   ],
   "source": [
    "#binary file load\n",
    "res=np.load(\"out.npy\")\n",
    "print(\"file is loaded successfully\")\n",
    "print(res)"
   ]
  },
  {
   "cell_type": "code",
   "execution_count": 3,
   "id": "9a0075d3",
   "metadata": {},
   "outputs": [
    {
     "name": "stdout",
     "output_type": "stream",
     "text": [
      "my txt file is saved successfully....\n",
      "None\n"
     ]
    }
   ],
   "source": [
    "#saving a text file\n",
    "lst=[100,200,300,400,500]\n",
    "a=np.array(lst)\n",
    "res=np.savetxt(\"outt.txt\",a)\n",
    "print(\"my txt file is saved successfully....\")\n",
    "print(res)"
   ]
  },
  {
   "cell_type": "code",
   "execution_count": 9,
   "id": "bc6efc94",
   "metadata": {},
   "outputs": [
    {
     "ename": "SyntaxError",
     "evalue": "unterminated string literal (detected at line 4) (3721366596.py, line 4)",
     "output_type": "error",
     "traceback": [
      "\u001b[1;36m  Cell \u001b[1;32mIn[9], line 4\u001b[1;36m\u001b[0m\n\u001b[1;33m    res=np.savetxt(\"outt.\u001b[0m\n\u001b[1;37m                   ^\u001b[0m\n\u001b[1;31mSyntaxError\u001b[0m\u001b[1;31m:\u001b[0m unterminated string literal (detected at line 4)\n"
     ]
    }
   ],
   "source": [
    "#Loading the text file\n",
    "lst=[15,25,50,75,100]\n",
    "c=np.array(lst)\n",
    "res=np.savetxt(\"outt."
   ]
  }
 ],
 "metadata": {
  "kernelspec": {
   "display_name": "Python [conda env:base] *",
   "language": "python",
   "name": "conda-base-py"
  },
  "language_info": {
   "codemirror_mode": {
    "name": "ipython",
    "version": 3
   },
   "file_extension": ".py",
   "mimetype": "text/x-python",
   "name": "python",
   "nbconvert_exporter": "python",
   "pygments_lexer": "ipython3",
   "version": "3.11.4"
  }
 },
 "nbformat": 4,
 "nbformat_minor": 5
}
