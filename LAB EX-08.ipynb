{
 "cells": [
  {
   "cell_type": "code",
   "execution_count": 1,
   "id": "31c5aafa",
   "metadata": {},
   "outputs": [],
   "source": [
    "import pandas as pd"
   ]
  },
  {
   "cell_type": "code",
   "execution_count": 2,
   "id": "ddb32d85",
   "metadata": {},
   "outputs": [],
   "source": [
    "#8. panda basicss\n",
    "#a. Installling Pandas\n",
    "\n",
    "#syntax\n",
    "#pip uninstall pandas\n",
    "#pip install pandas\n",
    "#pip install numpy\n",
    "#pip uninstall numpy"
   ]
  },
  {
   "cell_type": "code",
   "execution_count": 3,
   "id": "2414e462",
   "metadata": {},
   "outputs": [
    {
     "name": "stdout",
     "output_type": "stream",
     "text": [
      "1.5.3\n"
     ]
    }
   ],
   "source": [
    "#b. Import pandas and check the version\n",
    "import pandas as pd\n",
    "v=(pd.__version__)\n",
    "print(v)"
   ]
  },
  {
   "cell_type": "code",
   "execution_count": 5,
   "id": "87401bf2",
   "metadata": {},
   "outputs": [
    {
     "name": "stdout",
     "output_type": "stream",
     "text": [
      "[10, 20, 30, 40]\n",
      "0    10\n",
      "1    20\n",
      "2    30\n",
      "3    40\n",
      "dtype: int64\n"
     ]
    }
   ],
   "source": [
    "#c. create a series from a list , numpy array and dict \n",
    "#create a series from list\n",
    "import pandas as pd \n",
    "ls=[10,20,30,40]\n",
    "print(ls)\n",
    "#pd.Series(object,index,name)\n",
    "s=pd.Series(ls)\n",
    "print(s)"
   ]
  },
  {
   "cell_type": "code",
   "execution_count": 11,
   "id": "1c184558",
   "metadata": {},
   "outputs": [
    {
     "name": "stdout",
     "output_type": "stream",
     "text": [
      "[10, 20, 30, 40]\n",
      "['i', 'li', 'iii', 'iv', 'v']\n"
     ]
    }
   ],
   "source": [
    "import pandas as pd\n",
    "ls=[10,20,30,40]\n",
    "print(ls)\n",
    "s=pd.Series(ls)\n",
    "ind=[\"i\",\"li\",\"iii\",\"iv\",\"v\"]\n",
    "s=pd.index=ind\n",
    "print(s)"
   ]
  },
  {
   "cell_type": "code",
   "execution_count": 8,
   "id": "0d96faf3",
   "metadata": {},
   "outputs": [
    {
     "name": "stdout",
     "output_type": "stream",
     "text": [
      "a    1\n",
      "b    2\n",
      "c    3\n",
      "d    4\n",
      "e    5\n",
      "dtype: int64\n",
      "Dimesion 1\n",
      "Dtype int64\n",
      "Shape (5,)\n",
      "Size 5\n",
      "name None\n"
     ]
    }
   ],
   "source": [
    "import pandas as pd\n",
    "lst=[1,2,3,4,5]\n",
    "s=pd.Series(lst,index=[\"a\",\"b\",\"c\",\"d\",\"e\"])\n",
    "print(s)\n",
    "print(\"Dimesion\",s.ndim)\n",
    "print(\"Dtype\",s.dtype)\n",
    "print(\"Shape\",s.shape)\n",
    "print(\"Size\",s.size)\n",
    "print(\"name\",s.name)"
   ]
  },
  {
   "cell_type": "code",
   "execution_count": 9,
   "id": "0aa5a7bd",
   "metadata": {},
   "outputs": [
    {
     "name": "stdout",
     "output_type": "stream",
     "text": [
      "0    10\n",
      "1    20\n",
      "2    30\n",
      "3    40\n",
      "4    50\n",
      "dtype: int64\n",
      "    0   1   2   3   4\n",
      "0  10  20  30  40  50\n"
     ]
    }
   ],
   "source": [
    "#d. convert the index of series into column of a dataframe\n",
    "lst = [10,20,30,40,50]\n",
    "s=pd.Series(lst)\n",
    "print(s)\n",
    "df = pd.DataFrame(s).T\n",
    "print(df)"
   ]
  },
  {
   "cell_type": "code",
   "execution_count": 10,
   "id": "eb42d250",
   "metadata": {},
   "outputs": [
    {
     "name": "stdout",
     "output_type": "stream",
     "text": [
      "   col1  col2\n",
      "0    10   100\n",
      "1    20   200\n",
      "2    30   300\n",
      "3    40   400\n",
      "4    50   500\n"
     ]
    }
   ],
   "source": [
    "#e. Combine many series to form a dataframe\n",
    "import pandas as pd\n",
    "lst1 = [10,20,30,40,50]\n",
    "lst2 = [100,200,300,400,500]\n",
    "s1 = pd.Series(lst1)\n",
    "s2 = pd.Series(lst2)\n",
    "df = pd.DataFrame({\"col1\":s1,\"col2\":s2})\n",
    "print(df)"
   ]
  },
  {
   "cell_type": "code",
   "execution_count": null,
   "id": "db0d50c4",
   "metadata": {},
   "outputs": [],
   "source": []
  }
 ],
 "metadata": {
  "kernelspec": {
   "display_name": "Python 3 (ipykernel)",
   "language": "python",
   "name": "python3"
  },
  "language_info": {
   "codemirror_mode": {
    "name": "ipython",
    "version": 3
   },
   "file_extension": ".py",
   "mimetype": "text/x-python",
   "name": "python",
   "nbconvert_exporter": "python",
   "pygments_lexer": "ipython3",
   "version": "3.11.4"
  }
 },
 "nbformat": 4,
 "nbformat_minor": 5
}
